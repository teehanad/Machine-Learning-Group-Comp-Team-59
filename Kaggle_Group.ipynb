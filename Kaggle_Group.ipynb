{
 "cells": [
  {
   "cell_type": "code",
   "execution_count": 36,
   "metadata": {},
   "outputs": [],
   "source": [
    "import pandas as pd\n",
    "import numpy as np\n",
    "import matplotlib.pyplot as plt\n",
    "from math import sqrt\n",
    "from IPython.display import display\n",
    "from sklearn.linear_model import LinearRegression\n",
    "from sklearn.linear_model import BayesianRidge\n",
    "from sklearn.model_selection import train_test_split\n",
    "from sklearn.metrics import mean_squared_error\n",
    "dataset = pd.read_csv(\"tcd-ml-1920-group-income-train.csv\")\n",
    "testset = pd.read_csv(\"tcd-ml-1920-group-income-test.csv\")"
   ]
  },
  {
   "cell_type": "code",
   "execution_count": 37,
   "metadata": {},
   "outputs": [],
   "source": [
    "def preprocessing(dataset,testset):\n",
    "    #Dropping features\n",
    "    dataset=dataset.drop(['Profession'],axis=1)\n",
    "    dataset=dataset.drop(['Country'],axis=1)\n",
    "    dataset=dataset.drop(['Work Experience in Current Job [years]'],axis=1)\n",
    "    dataset=dataset.drop(['Satisfation with employer'],axis=1)\n",
    "    dataset=dataset.drop(['Size of City'],axis=1)\n",
    "    dataset=dataset.drop(['Yearly Income in addition to Salary (e.g. Rental Income)'],axis=1)\n",
    "    \n",
    "    testset=testset.drop(['Profession'],axis=1)\n",
    "    testset=testset.drop(['Country'],axis=1)\n",
    "    testset=testset.drop(['Work Experience in Current Job [years]'],axis=1)\n",
    "    testset=testset.drop(['Satisfation with employer'],axis=1)\n",
    "    testset=testset.drop(['Size of City'],axis=1)\n",
    "    testset=testset.drop(['Yearly Income in addition to Salary (e.g. Rental Income)'],axis=1)\n",
    "         \n",
    "   \n",
    "    #Replacing missing values\n",
    "    dataset['Year of Record'].fillna(dataset['Year of Record'].median(), inplace=True)\n",
    "    dataset['Year of Record']=dataset['Year of Record'].replace(['#N/A'],'0')\n",
    "    dataset['Housing Situation'].fillna(dataset['Housing Situation'], inplace=True)\n",
    "    dataset['Housing Situation'] = dataset['Housing Situation'].str.replace(\" \",\"\")\n",
    "    dataset['Crime Level in the City of Employement'].replace('', np.nan, inplace=True)\n",
    "    dataset['Crime Level in the City of Employement'].fillna(dataset['Crime Level in the City of Employement'].median(),inplace=True)\n",
    "    \n",
    "    dataset['Gender'] = dataset['Gender'].replace(['0','nan' ], 'unknown') \n",
    "    dataset['Gender'] = dataset['Gender'].replace(['f'], 'female')\n",
    "    dataset['University Degree'] = dataset['University Degree'].replace(['0','nan'], 'unknown')\n",
    "    dataset['University Degree']=dataset['University Degree'].replace(['#N/A'],'0')\n",
    "    dataset['Hair Color'] = dataset['Hair Color'].replace(['0','nan'], 'Unknown')\n",
    "       \n",
    "    \n",
    "    testset['Year of Record'].fillna(testset['Year of Record'].median(), inplace=True)\n",
    "    testset['Year of Record']=testset['Year of Record'].replace(['#N/A'],'0')\n",
    "    testset['Housing Situation'].fillna(testset['Housing Situation'], inplace=True)\n",
    "    testset['Housing Situation'] = testset['Housing Situation'].str.replace(\" \",\"\")\n",
    "    testset['Crime Level in the City of Employement'].replace('', np.nan, inplace=True)\n",
    "    testset['Crime Level in the City of Employement'].fillna(testset['Crime Level in the City of Employement'].median(),inplace=True)\n",
    "    \n",
    "    testset['Gender'] = testset['Gender'].replace(['0','nan' ], 'unknown') \n",
    "    testset['Gender'] = testset['Gender'].replace(['f'], 'female')\n",
    "    testset['University Degree'] = testset['University Degree'].replace(['0','nan'], 'unknown')\n",
    "    testset['University Degree']=testset['University Degree'].replace(['#N/A'],'0')\n",
    "    testset['Hair Color'] = testset['Hair Color'].replace(['0','nan'], 'Unknown')\n",
    "    \n",
    "    return dataset,testset\n",
    "    \n"
   ]
  },
  {
   "cell_type": "code",
   "execution_count": 38,
   "metadata": {},
   "outputs": [],
   "source": [
    "def one_hot_encoding(dataset,testset):\n",
    "#DATASET    \n",
    "    dataset=pd.get_dummies(dataset,columns=['Gender'],prefix=['Gender'])\n",
    "    dataset=pd.get_dummies(dataset,columns=['Housing Situation'],prefix=['Housing Situation'])\n",
    "    dataset=pd.get_dummies(dataset,columns=['Hair Color'],prefix=['Hair Color']) \n",
    "    dataset=pd.get_dummies(dataset,columns=['Year of Record'],prefix=['Year of Record']) \n",
    "    dataset=pd.get_dummies(dataset,columns=['University Degree'],prefix=['University Degree'])\n",
    "\n",
    "#TESTSET\n",
    "    \n",
    "    testset=pd.get_dummies(testset,columns=['Gender'],prefix=['Gender'])\n",
    "    testset=pd.get_dummies(testset,columns=['Housing Situation'],prefix=['Housing Situation'])\n",
    "    testset=pd.get_dummies(testset,columns=['Hair Color'],prefix=['Hair Color']) \n",
    "    testset=pd.get_dummies(testset,columns=['Year of Record'],prefix=['Year of Record']) \n",
    "    testset=pd.get_dummies(testset,columns=['University Degree'],prefix=['University Degree']) \n",
    "    return dataset,testset    "
   ]
  },
  {
   "cell_type": "code",
   "execution_count": 39,
   "metadata": {},
   "outputs": [],
   "source": [
    "def model_predict(dataset,testset):\n",
    "    \n",
    "    Y=dataset['Total Yearly Income [EUR]'].astype(float)\n",
    "    X=dataset.drop(['Total Yearly Income [EUR]'], axis=1)\n",
    "    xtrain,xvalidate,ytrain,yvalidate=train_test_split(X,Y,test_size=0.2,random_state=0)\n",
    "    x_test=testset.drop(\"Total Yearly Income [EUR]\",axis=1)\n",
    "    #print(xtrain)\n",
    "    #print(Y)\n",
    "\n",
    "#Applying model\n",
    "    regressor=BayesianRidge()\n",
    "    regressor.fit(xtrain,ytrain)\n",
    "    y_predict=regressor.predict(xvalidate)\n",
    "    result=regressor.predict(x_test)\n",
    "    res=pd.DataFrame(x_test['Instance'])\n",
    "    res['Total Yearly Income [EUR]']=result\n",
    "    res.index=x_test.index\n",
    "    res.to_csv(\"result.csv\")\n",
    "    rms=np.sqrt(mean_squared_error(yvalidate,y_predict))\n",
    "    print(\"rmes is \"+ str(rms))\n"
   ]
  },
  {
   "cell_type": "code",
   "execution_count": 40,
   "metadata": {},
   "outputs": [
    {
     "name": "stdout",
     "output_type": "stream",
     "text": [
      "Preprocessing Dataset and TestSet\n",
      "One hot encoding\n",
      "Using predict model\n",
      "rmes is 69108.67368154944\n"
     ]
    }
   ],
   "source": [
    "def run_rmse(dataset,testset):\n",
    "    print(\"Preprocessing Dataset and TestSet\")\n",
    "    dataset,testset=preprocessing(dataset,testset)\n",
    "    print(\"One hot encoding\")\n",
    "    dataset,testset=one_hot_encoding(dataset,testset)\n",
    "    print(\"Using predict model\")\n",
    "    model_predict(dataset,testset)\n",
    "    \n",
    "if __name__ == '__main__':\n",
    "    run_rmse(dataset,testset)    "
   ]
  },
  {
   "cell_type": "code",
   "execution_count": null,
   "metadata": {},
   "outputs": [],
   "source": []
  }
 ],
 "metadata": {
  "kernelspec": {
   "display_name": "Python 3",
   "language": "python",
   "name": "python3"
  },
  "language_info": {
   "codemirror_mode": {
    "name": "ipython",
    "version": 3
   },
   "file_extension": ".py",
   "mimetype": "text/x-python",
   "name": "python",
   "nbconvert_exporter": "python",
   "pygments_lexer": "ipython3",
   "version": "3.7.4"
  }
 },
 "nbformat": 4,
 "nbformat_minor": 2
}
